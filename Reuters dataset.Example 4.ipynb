{
 "cells": [
  {
   "cell_type": "code",
   "execution_count": 1,
   "metadata": {},
   "outputs": [],
   "source": [
    "import tensorflow "
   ]
  },
  {
   "cell_type": "code",
   "execution_count": 2,
   "metadata": {},
   "outputs": [],
   "source": [
    "from tensorflow.keras.datasets import reuters\n",
    "(train_data,train_labels),(test_data,test_labels)=reuters.load_data(num_words = 10000)"
   ]
  },
  {
   "cell_type": "code",
   "execution_count": 3,
   "metadata": {},
   "outputs": [
    {
     "data": {
      "text/plain": [
       "8982"
      ]
     },
     "execution_count": 3,
     "metadata": {},
     "output_type": "execute_result"
    }
   ],
   "source": [
    "len(train_data)"
   ]
  },
  {
   "cell_type": "code",
   "execution_count": 4,
   "metadata": {},
   "outputs": [
    {
     "data": {
      "text/plain": [
       "2246"
      ]
     },
     "execution_count": 4,
     "metadata": {},
     "output_type": "execute_result"
    }
   ],
   "source": [
    "len(test_data)"
   ]
  },
  {
   "cell_type": "code",
   "execution_count": 5,
   "metadata": {},
   "outputs": [
    {
     "name": "stdout",
     "output_type": "stream",
     "text": [
      "[1, 178, 53, 321, 26, 14, 948, 26, 178, 39, 44, 2860, 3820, 14, 191, 59, 11, 86, 539, 63, 11, 14, 892, 61, 11, 123, 197, 1245, 258, 44, 11, 15, 58, 462, 26, 53, 14, 597, 61, 11, 15, 58, 19, 942, 15, 53, 105, 39, 633, 472, 927, 53, 46, 22, 710, 220, 851, 2861, 9, 4297, 282, 5, 317, 65, 9, 659, 249, 2, 196, 47, 11, 428, 410, 61, 59, 20, 22, 10, 29, 254, 17, 12]"
     ]
    }
   ],
   "source": [
    "print(train_data[8],end = \"\")"
   ]
  },
  {
   "cell_type": "code",
   "execution_count": 6,
   "metadata": {},
   "outputs": [
    {
     "data": {
      "text/plain": [
       "3"
      ]
     },
     "execution_count": 6,
     "metadata": {},
     "output_type": "execute_result"
    }
   ],
   "source": [
    "train_labels[8]"
   ]
  },
  {
   "cell_type": "code",
   "execution_count": 10,
   "metadata": {},
   "outputs": [],
   "source": [
    "# ONE HOT ENCODING OF DATA(TRAIN AND TEST)\n",
    "\n",
    "import numpy as np\n",
    "def vectorize_sequences(sequences, dimension=10000):\n",
    "    results = np.zeros((len(sequences), dimension))\n",
    "    for i, sequence in enumerate(sequences):\n",
    "        results[i, sequence] = 1.\n",
    "    return results\n",
    "\n",
    "x_train = vectorize_sequences(train_data)\n",
    "x_test = vectorize_sequences(test_data)\n",
    "\n",
    "# ONE HOT ENCODING OF LABELS\n",
    "\n",
    "from tensorflow.keras.utils import to_categorical\n",
    "one_hot_train_labels = to_categorical(train_labels)\n",
    "one_hot_test_labels = to_categorical(test_labels)"
   ]
  },
  {
   "cell_type": "code",
   "execution_count": 11,
   "metadata": {},
   "outputs": [
    {
     "name": "stdout",
     "output_type": "stream",
     "text": [
      "WARNING:tensorflow:From C:\\Users\\HP\\Anaconda3\\lib\\site-packages\\tensorflow\\python\\ops\\init_ops.py:1251: calling VarianceScaling.__init__ (from tensorflow.python.ops.init_ops) with dtype is deprecated and will be removed in a future version.\n",
      "Instructions for updating:\n",
      "Call initializer instance with the dtype argument instead of passing it to the constructor\n"
     ]
    }
   ],
   "source": [
    "# NETWORK ARCHITECTURE\n",
    "\n",
    "from tensorflow.keras import models\n",
    "from tensorflow.keras import layers\n",
    "\n",
    "model =models.Sequential()\n",
    "model.add(layers.Dense(64, activation = 'relu',input_shape = (10000,)))\n",
    "model.add(layers.Dense(64, activation = 'relu'))\n",
    "model.add(layers.Dense(46, activation = 'softmax'))"
   ]
  },
  {
   "cell_type": "code",
   "execution_count": 12,
   "metadata": {},
   "outputs": [],
   "source": [
    "# NETWORK COMPILATION\n",
    "\n",
    "model.compile(optimizer = 'rmsprop',loss = 'categorical_crossentropy',metrics = ['accuracy'])"
   ]
  },
  {
   "cell_type": "code",
   "execution_count": 13,
   "metadata": {},
   "outputs": [],
   "source": [
    "# VALIDATION\n",
    "\n",
    "x_val = x_train[:1000]\n",
    "partial_x_train = x_train[1000:]\n",
    "\n",
    "y_val = one_hot_train_labels[:1000]\n",
    "partial_y_train = one_hot_train_labels[1000:]"
   ]
  },
  {
   "cell_type": "code",
   "execution_count": 14,
   "metadata": {},
   "outputs": [
    {
     "name": "stdout",
     "output_type": "stream",
     "text": [
      "Train on 7982 samples, validate on 1000 samples\n",
      "Epoch 1/20\n",
      "7982/7982 [==============================] - 2s 197us/sample - loss: 2.7103 - acc: 0.5014 - val_loss: 1.8119 - val_acc: 0.6280\n",
      "Epoch 2/20\n",
      "7982/7982 [==============================] - 1s 138us/sample - loss: 1.4543 - acc: 0.6979 - val_loss: 1.3013 - val_acc: 0.7230\n",
      "Epoch 3/20\n",
      "7982/7982 [==============================] - 1s 138us/sample - loss: 1.0429 - acc: 0.7766 - val_loss: 1.1187 - val_acc: 0.7570\n",
      "Epoch 4/20\n",
      "7982/7982 [==============================] - 1s 135us/sample - loss: 0.8123 - acc: 0.8310 - val_loss: 1.0278 - val_acc: 0.7790\n",
      "Epoch 5/20\n",
      "7982/7982 [==============================] - 1s 134us/sample - loss: 0.6424 - acc: 0.8696 - val_loss: 0.9402 - val_acc: 0.8120\n",
      "Epoch 6/20\n",
      "7982/7982 [==============================] - 1s 128us/sample - loss: 0.5114 - acc: 0.8925 - val_loss: 0.9113 - val_acc: 0.8100\n",
      "Epoch 7/20\n",
      "7982/7982 [==============================] - 1s 128us/sample - loss: 0.4123 - acc: 0.9123 - val_loss: 0.8940 - val_acc: 0.8040\n",
      "Epoch 8/20\n",
      "7982/7982 [==============================] - 1s 124us/sample - loss: 0.3360 - acc: 0.9273 - val_loss: 0.8976 - val_acc: 0.8130\n",
      "Epoch 9/20\n",
      "7982/7982 [==============================] - 1s 127us/sample - loss: 0.2760 - acc: 0.9387 - val_loss: 0.9075 - val_acc: 0.8150\n",
      "Epoch 10/20\n",
      "7982/7982 [==============================] - 1s 123us/sample - loss: 0.2341 - acc: 0.9455 - val_loss: 0.9050 - val_acc: 0.8180\n",
      "Epoch 11/20\n",
      "7982/7982 [==============================] - 1s 128us/sample - loss: 0.2039 - acc: 0.9490 - val_loss: 0.8821 - val_acc: 0.8240\n",
      "Epoch 12/20\n",
      "7982/7982 [==============================] - 1s 134us/sample - loss: 0.1757 - acc: 0.9545 - val_loss: 0.9238 - val_acc: 0.8210\n",
      "Epoch 13/20\n",
      "7982/7982 [==============================] - 1s 133us/sample - loss: 0.1595 - acc: 0.9544 - val_loss: 0.9424 - val_acc: 0.8080\n",
      "Epoch 14/20\n",
      "7982/7982 [==============================] - 1s 123us/sample - loss: 0.1452 - acc: 0.9555 - val_loss: 0.9821 - val_acc: 0.8130\n",
      "Epoch 15/20\n",
      "7982/7982 [==============================] - 1s 127us/sample - loss: 0.1387 - acc: 0.9558 - val_loss: 0.9695 - val_acc: 0.8130\n",
      "Epoch 16/20\n",
      "7982/7982 [==============================] - 1s 125us/sample - loss: 0.1286 - acc: 0.9564 - val_loss: 1.0309 - val_acc: 0.8090\n",
      "Epoch 17/20\n",
      "7982/7982 [==============================] - 1s 121us/sample - loss: 0.1231 - acc: 0.9568 - val_loss: 1.0518 - val_acc: 0.8110\n",
      "Epoch 18/20\n",
      "7982/7982 [==============================] - 1s 121us/sample - loss: 0.1218 - acc: 0.9577 - val_loss: 1.0507 - val_acc: 0.8010\n",
      "Epoch 19/20\n",
      "7982/7982 [==============================] - 1s 135us/sample - loss: 0.1131 - acc: 0.9567 - val_loss: 1.0246 - val_acc: 0.8140\n",
      "Epoch 20/20\n",
      "7982/7982 [==============================] - 1s 128us/sample - loss: 0.1114 - acc: 0.9594 - val_loss: 1.0758 - val_acc: 0.8150\n"
     ]
    }
   ],
   "source": [
    "# TRAINING THE MODEL\n",
    "\n",
    "history= model.fit(partial_x_train,partial_y_train,epochs = 20,batch_size = 512,validation_data=(x_val,y_val))"
   ]
  },
  {
   "cell_type": "code",
   "execution_count": 16,
   "metadata": {},
   "outputs": [
    {
     "data": {
      "text/plain": [
       "dict_keys(['loss', 'acc', 'val_loss', 'val_acc'])"
      ]
     },
     "execution_count": 16,
     "metadata": {},
     "output_type": "execute_result"
    }
   ],
   "source": [
    "import matplotlib.pyplot as plt\n",
    "\n",
    "history_dict = history.history\n",
    "history_dict.keys()"
   ]
  },
  {
   "cell_type": "code",
   "execution_count": 17,
   "metadata": {},
   "outputs": [
    {
     "data": {
      "image/png": "[encoded data removed]",
      "text/plain": [
       "<Figure size 432x288 with 1 Axes>"
      ]
     },
     "metadata": {
      "needs_background": "light"
     },
     "output_type": "display_data"
    }
   ],
   "source": [
    "# PLOTTING GRAPH BETWEEN TRAINING LOSS AND VALIDATION LOSS \n",
    "loss = history_dict['loss']\n",
    "val_loss = history_dict['val_loss']\n",
    "epochs = range(1, len(loss) + 1)\n",
    "plt.plot(epochs, loss, 'bo', label='Training loss')\n",
    "plt.plot(epochs, val_loss, 'b', label='Validation loss')\n",
    "plt.title('Training and validation loss')\n",
    "plt.xlabel('Epochs')\n",
    "plt.ylabel('Loss')\n",
    "plt.legend()\n",
    "plt.show()"
   ]
  },
  {
   "cell_type": "code",
   "execution_count": 18,
   "metadata": {},
   "outputs": [
    {
     "data": {
      "image/png": "[encoded data removed]",
      "text/plain": [
       "<Figure size 432x288 with 1 Axes>"
      ]
     },
     "metadata": {
      "needs_background": "light"
     },
     "output_type": "display_data"
    }
   ],
   "source": [
    "# PLOTTING GRAPH BETWEEN TRAINING ACCURACY AND VALIDATION ACCURACY\n",
    "plt.clf()\n",
    "acc = history_dict['acc']\n",
    "val_acc = history_dict['val_acc']\n",
    "plt.plot(epochs, acc, 'bo', label='Training acc')\n",
    "plt.plot(epochs, val_acc, 'b', label='Validation acc')\n",
    "plt.title('Training and validation accuracy')\n",
    "plt.xlabel('Epochs')\n",
    "plt.ylabel('Loss')\n",
    "plt.legend()\n",
    "plt.show()"
   ]
  },
  {
   "cell_type": "code",
   "execution_count": 19,
   "metadata": {},
   "outputs": [
    {
     "name": "stdout",
     "output_type": "stream",
     "text": [
      "2246/2246 [==============================] - 0s 171us/sample - loss: 1.2222 - acc: 0.7863\n"
     ]
    }
   ],
   "source": [
    "results = model.evaluate(x_test, one_hot_test_labels)"
   ]
  },
  {
   "cell_type": "code",
   "execution_count": 23,
   "metadata": {},
   "outputs": [
    {
     "name": "stdout",
     "output_type": "stream",
     "text": [
      "Train on 7982 samples, validate on 1000 samples\n",
      "Epoch 1/11\n",
      "7982/7982 [==============================] - 1s 172us/sample - loss: 2.6685 - acc: 0.5400 - val_loss: 1.7460 - val_acc: 0.6480\n",
      "Epoch 2/11\n",
      "7982/7982 [==============================] - 1s 133us/sample - loss: 1.4265 - acc: 0.7028 - val_loss: 1.2948 - val_acc: 0.7120\n",
      "Epoch 3/11\n",
      "7982/7982 [==============================] - 1s 128us/sample - loss: 1.0424 - acc: 0.7811 - val_loss: 1.1117 - val_acc: 0.7630\n",
      "Epoch 4/11\n",
      "7982/7982 [==============================] - 1s 132us/sample - loss: 0.8198 - acc: 0.8285 - val_loss: 1.0240 - val_acc: 0.7820\n",
      "Epoch 5/11\n",
      "7982/7982 [==============================] - 1s 126us/sample - loss: 0.6467 - acc: 0.8675 - val_loss: 0.9753 - val_acc: 0.8050\n",
      "Epoch 6/11\n",
      "7982/7982 [==============================] - 1s 127us/sample - loss: 0.5177 - acc: 0.8939 - val_loss: 0.9063 - val_acc: 0.8130\n",
      "Epoch 7/11\n",
      "7982/7982 [==============================] - 1s 140us/sample - loss: 0.4149 - acc: 0.9167 - val_loss: 0.8849 - val_acc: 0.8160\n",
      "Epoch 8/11\n",
      "7982/7982 [==============================] - 1s 139us/sample - loss: 0.3425 - acc: 0.9267 - val_loss: 0.8873 - val_acc: 0.8260\n",
      "Epoch 9/11\n",
      "7982/7982 [==============================] - 1s 128us/sample - loss: 0.2800 - acc: 0.9402 - val_loss: 0.8872 - val_acc: 0.8240\n",
      "Epoch 10/11\n",
      "7982/7982 [==============================] - 1s 130us/sample - loss: 0.2366 - acc: 0.9483 - val_loss: 0.9360 - val_acc: 0.8090\n",
      "Epoch 11/11\n",
      "7982/7982 [==============================] - 1s 126us/sample - loss: 0.2064 - acc: 0.9484 - val_loss: 0.8946 - val_acc: 0.8360\n",
      "\n",
      "\n",
      "2246/2246 [==============================] - 0s 141us/sample - loss: 0.9971 - acc: 0.7934\n"
     ]
    }
   ],
   "source": [
    "# MODEL FROM SCRATCH\n",
    "\n",
    "model = models.Sequential()\n",
    "model.add(layers.Dense(64, activation='relu', input_shape=(10000,)))\n",
    "model.add(layers.Dense(64, activation='relu'))\n",
    "model.add(layers.Dense(46, activation='softmax'))\n",
    "model.compile(optimizer='rmsprop',\n",
    "loss='categorical_crossentropy',\n",
    "metrics=['accuracy'])\n",
    "model.fit(partial_x_train,\n",
    "partial_y_train,\n",
    "epochs=11,\n",
    "batch_size=512,\n",
    "validation_data=(x_val, y_val))\n",
    "print(\"\\n\")\n",
    "results = model.evaluate(x_test, one_hot_test_labels)"
   ]
  },
  {
   "cell_type": "code",
   "execution_count": null,
   "metadata": {},
   "outputs": [],
   "source": []
  }
 ],
 "metadata": {
  "kernelspec": {
   "display_name": "Python 3",
   "language": "python",
   "name": "python3"
  },
  "language_info": {
   "codemirror_mode": {
    "name": "ipython",
    "version": 3
   },
   "file_extension": ".py",
   "mimetype": "text/x-python",
   "name": "python",
   "nbconvert_exporter": "python",
   "pygments_lexer": "ipython3",
   "version": "3.7.3"
  }
 },
 "nbformat": 4,
 "nbformat_minor": 2
}
