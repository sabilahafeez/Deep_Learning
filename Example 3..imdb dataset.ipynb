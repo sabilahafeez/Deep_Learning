{
 "cells": [
  {
   "cell_type": "code",
   "execution_count": 1,
   "metadata": {},
   "outputs": [],
   "source": [
    "import tensorflow"
   ]
  },
  {
   "cell_type": "code",
   "execution_count": 2,
   "metadata": {},
   "outputs": [],
   "source": [
    "from tensorflow.keras.datasets import imdb\n",
    "(train_data, train_labels), (test_data, test_labels) = imdb.load_data(num_words=1000)"
   ]
  },
  {
   "cell_type": "code",
   "execution_count": 3,
   "metadata": {},
   "outputs": [],
   "source": [
    "import numpy as np\n",
    "def vectorize_sequences(sequences, dimension=10000):  \n",
    "    results= np.zeros((len(sequences), dimension))\n",
    "    for i, sequence in enumerate(sequences):\n",
    "        results[i, sequence] = 1.\n",
    "    return results\n",
    "x_train = vectorize_sequences(train_data) \n",
    "x_test = vectorize_sequences(test_data)"
   ]
  },
  {
   "cell_type": "code",
   "execution_count": 4,
   "metadata": {},
   "outputs": [],
   "source": [
    "y_train = np.asarray(train_labels).astype('float32')\n",
    "y_test = np.asarray(test_labels).astype('float32')"
   ]
  },
  {
   "cell_type": "code",
   "execution_count": 5,
   "metadata": {},
   "outputs": [
    {
     "name": "stdout",
     "output_type": "stream",
     "text": [
      "WARNING:tensorflow:From C:\\Users\\HP\\Anaconda3\\lib\\site-packages\\tensorflow\\python\\ops\\init_ops.py:1251: calling VarianceScaling.__init__ (from tensorflow.python.ops.init_ops) with dtype is deprecated and will be removed in a future version.\n",
      "Instructions for updating:\n",
      "Call initializer instance with the dtype argument instead of passing it to the constructor\n"
     ]
    }
   ],
   "source": [
    "from tensorflow.keras import models\n",
    "from tensorflow.keras import layers\n",
    "model = models.Sequential()\n",
    "model.add(layers.Dense(16, activation='relu', input_shape=(10000,)))\n",
    "model.add(layers.Dense(16, activation='relu'))\n",
    "model.add(layers.Dense(1, activation='sigmoid'))"
   ]
  },
  {
   "cell_type": "code",
   "execution_count": 6,
   "metadata": {},
   "outputs": [
    {
     "name": "stdout",
     "output_type": "stream",
     "text": [
      "WARNING:tensorflow:From C:\\Users\\HP\\Anaconda3\\lib\\site-packages\\tensorflow\\python\\ops\\nn_impl.py:180: add_dispatch_support.<locals>.wrapper (from tensorflow.python.ops.array_ops) is deprecated and will be removed in a future version.\n",
      "Instructions for updating:\n",
      "Use tf.where in 2.0, which has the same broadcast rule as np.where\n"
     ]
    }
   ],
   "source": [
    "from tensorflow.keras import optimizers\n",
    "from tensorflow.keras import losses\n",
    "from tensorflow.keras import metrics\n",
    "model.compile(optimizer=optimizers.RMSprop(lr=0.001),\n",
    "loss=losses.binary_crossentropy,\n",
    "metrics=[metrics.binary_accuracy])"
   ]
  },
  {
   "cell_type": "code",
   "execution_count": 7,
   "metadata": {},
   "outputs": [],
   "source": [
    "x_val = x_train[:10000]\n",
    "partial_x_train = x_train[10000:]\n",
    "\n",
    "y_val = y_train[:10000]\n",
    "partial_y_train = y_train[10000:]"
   ]
  },
  {
   "cell_type": "code",
   "execution_count": 8,
   "metadata": {},
   "outputs": [
    {
     "name": "stdout",
     "output_type": "stream",
     "text": [
      "Train on 15000 samples, validate on 10000 samples\n",
      "Epoch 1/20\n",
      "15000/15000 [==============================] - 4s 242us/sample - loss: 0.5477 - binary_accuracy: 0.7651 - val_loss: 0.4385 - val_binary_accuracy: 0.8384\n",
      "Epoch 2/20\n",
      "15000/15000 [==============================] - 2s 155us/sample - loss: 0.4009 - binary_accuracy: 0.8458 - val_loss: 0.3681 - val_binary_accuracy: 0.8513\n",
      "Epoch 3/20\n",
      "15000/15000 [==============================] - 2s 158us/sample - loss: 0.3450 - binary_accuracy: 0.8633 - val_loss: 0.3535 - val_binary_accuracy: 0.8523\n",
      "Epoch 4/20\n",
      "15000/15000 [==============================] - 2s 160us/sample - loss: 0.3254 - binary_accuracy: 0.8687 - val_loss: 0.3337 - val_binary_accuracy: 0.8634\n",
      "Epoch 5/20\n",
      "15000/15000 [==============================] - 2s 153us/sample - loss: 0.3122 - binary_accuracy: 0.8731 - val_loss: 0.3412 - val_binary_accuracy: 0.8586\n",
      "Epoch 6/20\n",
      "15000/15000 [==============================] - 2s 153us/sample - loss: 0.3041 - binary_accuracy: 0.8751 - val_loss: 0.3316 - val_binary_accuracy: 0.8632\n",
      "Epoch 7/20\n",
      "15000/15000 [==============================] - 2s 155us/sample - loss: 0.3042 - binary_accuracy: 0.8739 - val_loss: 0.3379 - val_binary_accuracy: 0.8621\n",
      "Epoch 8/20\n",
      "15000/15000 [==============================] - 2s 153us/sample - loss: 0.2988 - binary_accuracy: 0.8754 - val_loss: 0.3355 - val_binary_accuracy: 0.8626\n",
      "Epoch 9/20\n",
      "15000/15000 [==============================] - 2s 154us/sample - loss: 0.2958 - binary_accuracy: 0.8762 - val_loss: 0.3425 - val_binary_accuracy: 0.8605\n",
      "Epoch 10/20\n",
      "15000/15000 [==============================] - 2s 158us/sample - loss: 0.2911 - binary_accuracy: 0.8802 - val_loss: 0.3382 - val_binary_accuracy: 0.8599\n",
      "Epoch 11/20\n",
      "15000/15000 [==============================] - 2s 156us/sample - loss: 0.2885 - binary_accuracy: 0.8783 - val_loss: 0.3479 - val_binary_accuracy: 0.8541\n",
      "Epoch 12/20\n",
      "15000/15000 [==============================] - 2s 155us/sample - loss: 0.2844 - binary_accuracy: 0.8804 - val_loss: 0.3417 - val_binary_accuracy: 0.8577\n",
      "Epoch 13/20\n",
      "15000/15000 [==============================] - 2s 153us/sample - loss: 0.2835 - binary_accuracy: 0.8815 - val_loss: 0.3393 - val_binary_accuracy: 0.8607\n",
      "Epoch 14/20\n",
      "15000/15000 [==============================] - 2s 158us/sample - loss: 0.2790 - binary_accuracy: 0.8841 - val_loss: 0.3507 - val_binary_accuracy: 0.8504\n",
      "Epoch 15/20\n",
      "15000/15000 [==============================] - 2s 158us/sample - loss: 0.2746 - binary_accuracy: 0.8848 - val_loss: 0.3497 - val_binary_accuracy: 0.8583\n",
      "Epoch 16/20\n",
      "15000/15000 [==============================] - 2s 164us/sample - loss: 0.2713 - binary_accuracy: 0.8873 - val_loss: 0.3415 - val_binary_accuracy: 0.8601\n",
      "Epoch 17/20\n",
      "15000/15000 [==============================] - 2s 151us/sample - loss: 0.2658 - binary_accuracy: 0.8883 - val_loss: 0.3435 - val_binary_accuracy: 0.8599\n",
      "Epoch 18/20\n",
      "15000/15000 [==============================] - 2s 161us/sample - loss: 0.2610 - binary_accuracy: 0.8911 - val_loss: 0.3532 - val_binary_accuracy: 0.8572\n",
      "Epoch 19/20\n",
      "15000/15000 [==============================] - 2s 160us/sample - loss: 0.2579 - binary_accuracy: 0.8923 - val_loss: 0.3953 - val_binary_accuracy: 0.8412\n",
      "Epoch 20/20\n",
      "15000/15000 [==============================] - 2s 160us/sample - loss: 0.2539 - binary_accuracy: 0.8960 - val_loss: 0.3474 - val_binary_accuracy: 0.8576\n"
     ]
    }
   ],
   "source": [
    "history = model.fit(partial_x_train,\n",
    "partial_y_train,\n",
    "epochs=20,\n",
    "batch_size=512,\n",
    "validation_data=(x_val, y_val))"
   ]
  },
  {
   "cell_type": "code",
   "execution_count": 9,
   "metadata": {},
   "outputs": [
    {
     "data": {
      "text/plain": [
       "dict_keys(['loss', 'binary_accuracy', 'val_loss', 'val_binary_accuracy'])"
      ]
     },
     "execution_count": 9,
     "metadata": {},
     "output_type": "execute_result"
    }
   ],
   "source": [
    "history_dict = history.history\n",
    "history_dict.keys()"
   ]
  },
  {
   "cell_type": "code",
   "execution_count": 10,
   "metadata": {},
   "outputs": [
    {
     "data": {
      "text/plain": [
       "<Figure size 640x480 with 1 Axes>"
      ]
     },
     "metadata": {},
     "output_type": "display_data"
    }
   ],
   "source": [
    "import matplotlib.pyplot as plt\n",
    "\n",
    "history_dict = history.history\n",
    "loss_values = history_dict['loss']\n",
    "val_loss_values = history_dict['val_loss']\n",
    "epochs = range(1, len(loss_values) + 1)\n",
    "plt.plot(epochs, loss_values, 'bo', label='Training loss')\n",
    "plt.plot(epochs, val_loss_values, 'b', label='Validation loss')\n",
    "plt.title('Training and validation loss') \n",
    "plt.xlabel('Epochs')\n",
    "plt.ylabel('Loss')\n",
    "plt.legend() \n",
    "plt.show()"
   ]
  },
  {
   "cell_type": "code",
   "execution_count": 11,
   "metadata": {},
   "outputs": [
    {
     "data": {
      "image/png": "[encoded data removed]",
      "text/plain": [
       "<Figure size 432x288 with 1 Axes>"
      ]
     },
     "metadata": {
      "needs_background": "light"
     },
     "output_type": "display_data"
    }
   ],
   "source": [
    "plt.clf()\n",
    "acc_values = history_dict['binary_accuracy']\n",
    "val_acc_values = history_dict['val_binary_accuracy']\n",
    "plt.plot(epochs, acc_values, 'bo', label='Training acc')\n",
    "plt.plot(epochs, val_acc_values, 'b', label='Validation acc')\n",
    "plt.title('Training and validation accuracy')\n",
    "plt.xlabel('Epochs')\n",
    "plt.ylabel('accuracy')\n",
    "plt.legend()\n",
    "plt.show()"
   ]
  }
 ],
 "metadata": {
  "kernelspec": {
   "display_name": "Python 3",
   "language": "python",
   "name": "python3"
  },
  "language_info": {
   "codemirror_mode": {
    "name": "ipython",
    "version": 3
   },
   "file_extension": ".py",
   "mimetype": "text/x-python",
   "name": "python",
   "nbconvert_exporter": "python",
   "pygments_lexer": "ipython3",
   "version": "3.7.3"
  }
 },
 "nbformat": 4,
 "nbformat_minor": 2
}
