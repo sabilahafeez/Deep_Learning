{
 "cells": [
  {
   "cell_type": "code",
   "execution_count": 2,
   "metadata": {},
   "outputs": [],
   "source": [
    "import tensorflow as tf"
   ]
  },
  {
   "cell_type": "code",
   "execution_count": 3,
   "metadata": {},
   "outputs": [],
   "source": [
    "from tensorflow.keras.datasets import mnist\n",
    "(train_images,train_labels),(test_images,test_labels) = mnist.load_data()"
   ]
  },
  {
   "cell_type": "code",
   "execution_count": 4,
   "metadata": {},
   "outputs": [
    {
     "data": {
      "text/plain": [
       "<Figure size 640x480 with 1 Axes>"
      ]
     },
     "metadata": {},
     "output_type": "display_data"
    }
   ],
   "source": [
    "digit = train_images[4]\n",
    "import matplotlib.pyplot as plt\n",
    "plt.imshow(digit,cmap=plt.cm.binary)\n",
    "plt.show()"
   ]
  },
  {
   "cell_type": "code",
   "execution_count": 5,
   "metadata": {},
   "outputs": [],
   "source": [
    "# NETWORK ARCHITECTURE"
   ]
  },
  {
   "cell_type": "code",
   "execution_count": 6,
   "metadata": {},
   "outputs": [],
   "source": [
    "from tensorflow.keras import models\n",
    "from tensorflow.keras import layers"
   ]
  },
  {
   "cell_type": "code",
   "execution_count": 7,
   "metadata": {},
   "outputs": [
    {
     "name": "stdout",
     "output_type": "stream",
     "text": [
      "WARNING:tensorflow:From C:\\Users\\HP\\Anaconda3\\lib\\site-packages\\tensorflow\\python\\ops\\init_ops.py:1251: calling VarianceScaling.__init__ (from tensorflow.python.ops.init_ops) with dtype is deprecated and will be removed in a future version.\n",
      "Instructions for updating:\n",
      "Call initializer instance with the dtype argument instead of passing it to the constructor\n"
     ]
    }
   ],
   "source": [
    "network = models.Sequential()\n",
    "network.add(layers.Dense(512,activation = \"relu\",input_shape=(28*28,))) # har node 784 layers 512 nodes se connected\n",
    "network.add(layers.Dense(10,activation='softmax')) # "
   ]
  },
  {
   "cell_type": "code",
   "execution_count": 8,
   "metadata": {},
   "outputs": [],
   "source": [
    "#COMPILE NETWORK"
   ]
  },
  {
   "cell_type": "code",
   "execution_count": 9,
   "metadata": {},
   "outputs": [],
   "source": [
    "network.compile(optimizer='rmsprop',loss = \"categorical_crossentropy\",metrics = ['accuracy'])"
   ]
  },
  {
   "cell_type": "code",
   "execution_count": 10,
   "metadata": {},
   "outputs": [],
   "source": [
    "train_images = train_images.reshape((60000, 784))\n",
    "train_images = train_images.astype('float32') / 255\n",
    "\n",
    "test_images = test_images.reshape((10000, 784))\n",
    "test_images = test_images.astype('float32') / 255\n"
   ]
  },
  {
   "cell_type": "code",
   "execution_count": 11,
   "metadata": {},
   "outputs": [],
   "source": [
    "from tensorflow.keras.utils import to_categorical\n",
    "train_labels = to_categorical(train_labels) \n",
    "test_labels = to_categorical(test_labels)"
   ]
  },
  {
   "cell_type": "code",
   "execution_count": 12,
   "metadata": {},
   "outputs": [
    {
     "name": "stdout",
     "output_type": "stream",
     "text": [
      "Epoch 1/20\n",
      "60000/60000 [==============================] - 3s 48us/sample - loss: 0.2540 - acc: 0.9269\n",
      "Epoch 2/20\n",
      "60000/60000 [==============================] - 3s 45us/sample - loss: 0.1028 - acc: 0.9693\n",
      "Epoch 3/20\n",
      "60000/60000 [==============================] - 3s 46us/sample - loss: 0.0684 - acc: 0.9790\n",
      "Epoch 4/20\n",
      "60000/60000 [==============================] - 3s 45us/sample - loss: 0.0493 - acc: 0.9851\n",
      "Epoch 5/20\n",
      "60000/60000 [==============================] - 3s 46us/sample - loss: 0.0372 - acc: 0.9885\n",
      "Epoch 6/20\n",
      "60000/60000 [==============================] - 3s 46us/sample - loss: 0.0291 - acc: 0.9908\n",
      "Epoch 7/20\n",
      "60000/60000 [==============================] - 3s 46us/sample - loss: 0.0216 - acc: 0.9933\n",
      "Epoch 8/20\n",
      "60000/60000 [==============================] - 3s 46us/sample - loss: 0.0169 - acc: 0.9952\n",
      "Epoch 9/20\n",
      "60000/60000 [==============================] - 3s 46us/sample - loss: 0.0132 - acc: 0.9964\n",
      "Epoch 10/20\n",
      "60000/60000 [==============================] - 3s 46us/sample - loss: 0.0106 - acc: 0.9972\n",
      "Epoch 11/20\n",
      "60000/60000 [==============================] - 3s 46us/sample - loss: 0.0079 - acc: 0.9978\n",
      "Epoch 12/20\n",
      "60000/60000 [==============================] - 3s 46us/sample - loss: 0.0059 - acc: 0.9984\n",
      "Epoch 13/20\n",
      "60000/60000 [==============================] - 3s 46us/sample - loss: 0.0048 - acc: 0.9988\n",
      "Epoch 14/20\n",
      "60000/60000 [==============================] - 3s 46us/sample - loss: 0.0033 - acc: 0.9991\n",
      "Epoch 15/20\n",
      "60000/60000 [==============================] - 3s 46us/sample - loss: 0.0030 - acc: 0.9993\n",
      "Epoch 16/20\n",
      "60000/60000 [==============================] - 3s 46us/sample - loss: 0.0025 - acc: 0.9994\n",
      "Epoch 17/20\n",
      "60000/60000 [==============================] - 3s 46us/sample - loss: 0.0017 - acc: 0.9995\n",
      "Epoch 18/20\n",
      "60000/60000 [==============================] - 3s 48us/sample - loss: 0.0017 - acc: 0.9995\n",
      "Epoch 19/20\n",
      "60000/60000 [==============================] - 3s 46us/sample - loss: 9.2508e-04 - acc: 0.9998\n",
      "Epoch 20/20\n",
      "60000/60000 [==============================] - 3s 49us/sample - loss: 0.0011 - acc: 0.9997\n"
     ]
    },
    {
     "data": {
      "text/plain": [
       "<tensorflow.python.keras.callbacks.History at 0x1bf7954e470>"
      ]
     },
     "execution_count": 12,
     "metadata": {},
     "output_type": "execute_result"
    }
   ],
   "source": [
    "network.fit(train_images, train_labels, epochs=20, batch_size=128) "
   ]
  },
  {
   "cell_type": "code",
   "execution_count": null,
   "metadata": {},
   "outputs": [],
   "source": [
    "# Testing Model"
   ]
  },
  {
   "cell_type": "code",
   "execution_count": 14,
   "metadata": {},
   "outputs": [
    {
     "name": "stdout",
     "output_type": "stream",
     "text": [
      "10000/10000 [==============================] - 0s 43us/sample - loss: 0.0963 - acc: 0.9813\n"
     ]
    }
   ],
   "source": [
    " test_loss, test_acc = network.evaluate(test_images, test_labels)"
   ]
  }
 ],
 "metadata": {
  "kernelspec": {
   "display_name": "Python 3",
   "language": "python",
   "name": "python3"
  },
  "language_info": {
   "codemirror_mode": {
    "name": "ipython",
    "version": 3
   },
   "file_extension": ".py",
   "mimetype": "text/x-python",
   "name": "python",
   "nbconvert_exporter": "python",
   "pygments_lexer": "ipython3",
   "version": "3.7.3"
  }
 },
 "nbformat": 4,
 "nbformat_minor": 2
}
